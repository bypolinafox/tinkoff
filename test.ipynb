{
 "cells": [
  {
   "cell_type": "code",
   "execution_count": null,
   "metadata": {},
   "outputs": [],
   "source": [
    "import re\n",
    "import string\n",
    "import random\n",
    "\n",
    "class text():\n",
    "    def __init__(self, initial_text, length_of_message, first_word):\n",
    "        result = ''\n",
    "        length_of_message = int(length_of_message)\n",
    "        open_text = open(initial_text, \"r\")\n",
    "        text = open_text.read()\n",
    "        text_lower = text.lower()\n",
    "        \n",
    "        rus = re.compile('[^а-я]')\n",
    "        skips = rus.sub(' ', text_lower)\n",
    "        one_skip = ' '.join(skips.split())\n",
    "        words = one_skip.split(' ')\n",
    "        \n",
    "        a = {}\n",
    "        \n",
    "        for i in range(len(words) - 1):\n",
    "            if words[i] not in a:\n",
    "                a[words[i]] = []\n",
    "            a[words[i]].append(words[i + 1])\n",
    "        for i in range(length_of_message):\n",
    "            result+=str(first_word)+' '\n",
    "            first_word = random.choice(a[first_word])\n",
    "        print(result)\n",
    "        open_text.close()\n",
    "        \n",
    "print('Введите название файла, длину и первое слово:')\n",
    "file, length, f_w = input().split()\n",
    "result = text(file, length, f_w)"
   ]
  }
 ],
 "metadata": {
  "kernelspec": {
   "display_name": "Python 3",
   "language": "python",
   "name": "python3"
  },
  "language_info": {
   "codemirror_mode": {
    "name": "ipython",
    "version": 3
   },
   "file_extension": ".py",
   "mimetype": "text/x-python",
   "name": "python",
   "nbconvert_exporter": "python",
   "pygments_lexer": "ipython3",
   "version": "3.6.9"
  }
 },
 "nbformat": 4,
 "nbformat_minor": 2
}
